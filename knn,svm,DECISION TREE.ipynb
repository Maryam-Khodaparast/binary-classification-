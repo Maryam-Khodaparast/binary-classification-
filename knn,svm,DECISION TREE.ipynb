{
  "nbformat": 4,
  "nbformat_minor": 0,
  "metadata": {
    "colab": {
      "provenance": []
    },
    "kernelspec": {
      "name": "python3",
      "display_name": "Python 3"
    },
    "language_info": {
      "name": "python"
    }
  },
  "cells": [
    {
      "cell_type": "code",
      "execution_count": 16,
      "metadata": {
        "colab": {
          "base_uri": "https://localhost:8080/",
          "height": 73
        },
        "id": "FE2tDU-9Sbbf",
        "outputId": "2e1f0b60-5f25-4027-cd46-5b7e236dff1c"
      },
      "outputs": [
        {
          "output_type": "display_data",
          "data": {
            "text/plain": [
              "<IPython.core.display.HTML object>"
            ],
            "text/html": [
              "\n",
              "     <input type=\"file\" id=\"files-e16a6729-5cf7-4cd7-933a-497a50fac8aa\" name=\"files[]\" multiple disabled\n",
              "        style=\"border:none\" />\n",
              "     <output id=\"result-e16a6729-5cf7-4cd7-933a-497a50fac8aa\">\n",
              "      Upload widget is only available when the cell has been executed in the\n",
              "      current browser session. Please rerun this cell to enable.\n",
              "      </output>\n",
              "      <script>// Copyright 2017 Google LLC\n",
              "//\n",
              "// Licensed under the Apache License, Version 2.0 (the \"License\");\n",
              "// you may not use this file except in compliance with the License.\n",
              "// You may obtain a copy of the License at\n",
              "//\n",
              "//      http://www.apache.org/licenses/LICENSE-2.0\n",
              "//\n",
              "// Unless required by applicable law or agreed to in writing, software\n",
              "// distributed under the License is distributed on an \"AS IS\" BASIS,\n",
              "// WITHOUT WARRANTIES OR CONDITIONS OF ANY KIND, either express or implied.\n",
              "// See the License for the specific language governing permissions and\n",
              "// limitations under the License.\n",
              "\n",
              "/**\n",
              " * @fileoverview Helpers for google.colab Python module.\n",
              " */\n",
              "(function(scope) {\n",
              "function span(text, styleAttributes = {}) {\n",
              "  const element = document.createElement('span');\n",
              "  element.textContent = text;\n",
              "  for (const key of Object.keys(styleAttributes)) {\n",
              "    element.style[key] = styleAttributes[key];\n",
              "  }\n",
              "  return element;\n",
              "}\n",
              "\n",
              "// Max number of bytes which will be uploaded at a time.\n",
              "const MAX_PAYLOAD_SIZE = 100 * 1024;\n",
              "\n",
              "function _uploadFiles(inputId, outputId) {\n",
              "  const steps = uploadFilesStep(inputId, outputId);\n",
              "  const outputElement = document.getElementById(outputId);\n",
              "  // Cache steps on the outputElement to make it available for the next call\n",
              "  // to uploadFilesContinue from Python.\n",
              "  outputElement.steps = steps;\n",
              "\n",
              "  return _uploadFilesContinue(outputId);\n",
              "}\n",
              "\n",
              "// This is roughly an async generator (not supported in the browser yet),\n",
              "// where there are multiple asynchronous steps and the Python side is going\n",
              "// to poll for completion of each step.\n",
              "// This uses a Promise to block the python side on completion of each step,\n",
              "// then passes the result of the previous step as the input to the next step.\n",
              "function _uploadFilesContinue(outputId) {\n",
              "  const outputElement = document.getElementById(outputId);\n",
              "  const steps = outputElement.steps;\n",
              "\n",
              "  const next = steps.next(outputElement.lastPromiseValue);\n",
              "  return Promise.resolve(next.value.promise).then((value) => {\n",
              "    // Cache the last promise value to make it available to the next\n",
              "    // step of the generator.\n",
              "    outputElement.lastPromiseValue = value;\n",
              "    return next.value.response;\n",
              "  });\n",
              "}\n",
              "\n",
              "/**\n",
              " * Generator function which is called between each async step of the upload\n",
              " * process.\n",
              " * @param {string} inputId Element ID of the input file picker element.\n",
              " * @param {string} outputId Element ID of the output display.\n",
              " * @return {!Iterable<!Object>} Iterable of next steps.\n",
              " */\n",
              "function* uploadFilesStep(inputId, outputId) {\n",
              "  const inputElement = document.getElementById(inputId);\n",
              "  inputElement.disabled = false;\n",
              "\n",
              "  const outputElement = document.getElementById(outputId);\n",
              "  outputElement.innerHTML = '';\n",
              "\n",
              "  const pickedPromise = new Promise((resolve) => {\n",
              "    inputElement.addEventListener('change', (e) => {\n",
              "      resolve(e.target.files);\n",
              "    });\n",
              "  });\n",
              "\n",
              "  const cancel = document.createElement('button');\n",
              "  inputElement.parentElement.appendChild(cancel);\n",
              "  cancel.textContent = 'Cancel upload';\n",
              "  const cancelPromise = new Promise((resolve) => {\n",
              "    cancel.onclick = () => {\n",
              "      resolve(null);\n",
              "    };\n",
              "  });\n",
              "\n",
              "  // Wait for the user to pick the files.\n",
              "  const files = yield {\n",
              "    promise: Promise.race([pickedPromise, cancelPromise]),\n",
              "    response: {\n",
              "      action: 'starting',\n",
              "    }\n",
              "  };\n",
              "\n",
              "  cancel.remove();\n",
              "\n",
              "  // Disable the input element since further picks are not allowed.\n",
              "  inputElement.disabled = true;\n",
              "\n",
              "  if (!files) {\n",
              "    return {\n",
              "      response: {\n",
              "        action: 'complete',\n",
              "      }\n",
              "    };\n",
              "  }\n",
              "\n",
              "  for (const file of files) {\n",
              "    const li = document.createElement('li');\n",
              "    li.append(span(file.name, {fontWeight: 'bold'}));\n",
              "    li.append(span(\n",
              "        `(${file.type || 'n/a'}) - ${file.size} bytes, ` +\n",
              "        `last modified: ${\n",
              "            file.lastModifiedDate ? file.lastModifiedDate.toLocaleDateString() :\n",
              "                                    'n/a'} - `));\n",
              "    const percent = span('0% done');\n",
              "    li.appendChild(percent);\n",
              "\n",
              "    outputElement.appendChild(li);\n",
              "\n",
              "    const fileDataPromise = new Promise((resolve) => {\n",
              "      const reader = new FileReader();\n",
              "      reader.onload = (e) => {\n",
              "        resolve(e.target.result);\n",
              "      };\n",
              "      reader.readAsArrayBuffer(file);\n",
              "    });\n",
              "    // Wait for the data to be ready.\n",
              "    let fileData = yield {\n",
              "      promise: fileDataPromise,\n",
              "      response: {\n",
              "        action: 'continue',\n",
              "      }\n",
              "    };\n",
              "\n",
              "    // Use a chunked sending to avoid message size limits. See b/62115660.\n",
              "    let position = 0;\n",
              "    do {\n",
              "      const length = Math.min(fileData.byteLength - position, MAX_PAYLOAD_SIZE);\n",
              "      const chunk = new Uint8Array(fileData, position, length);\n",
              "      position += length;\n",
              "\n",
              "      const base64 = btoa(String.fromCharCode.apply(null, chunk));\n",
              "      yield {\n",
              "        response: {\n",
              "          action: 'append',\n",
              "          file: file.name,\n",
              "          data: base64,\n",
              "        },\n",
              "      };\n",
              "\n",
              "      let percentDone = fileData.byteLength === 0 ?\n",
              "          100 :\n",
              "          Math.round((position / fileData.byteLength) * 100);\n",
              "      percent.textContent = `${percentDone}% done`;\n",
              "\n",
              "    } while (position < fileData.byteLength);\n",
              "  }\n",
              "\n",
              "  // All done.\n",
              "  yield {\n",
              "    response: {\n",
              "      action: 'complete',\n",
              "    }\n",
              "  };\n",
              "}\n",
              "\n",
              "scope.google = scope.google || {};\n",
              "scope.google.colab = scope.google.colab || {};\n",
              "scope.google.colab._files = {\n",
              "  _uploadFiles,\n",
              "  _uploadFilesContinue,\n",
              "};\n",
              "})(self);\n",
              "</script> "
            ]
          },
          "metadata": {}
        },
        {
          "output_type": "stream",
          "name": "stdout",
          "text": [
            "Saving dataset_assignment1.csv to dataset_assignment1 (1).csv\n"
          ]
        }
      ],
      "source": [
        "\n",
        "##step 1\n",
        "import numpy as np\n",
        "import pandas as pd\n",
        "from sklearn import preprocessing\n",
        "from google.colab import files\n",
        "import matplotlib.pyplot as plt\n",
        "uploaded = files.upload()\n"
      ]
    },
    {
      "cell_type": "code",
      "source": [
        "##step 2\n",
        "#import data\n",
        "df=pd.read_csv('/content/dataset_assignment1.csv')\n",
        "#see the head of table with name\n",
        "print(df.head())\n",
        "#is used to print statistical summary \n",
        "print(df.describe())"
      ],
      "metadata": {
        "colab": {
          "base_uri": "https://localhost:8080/"
        },
        "id": "t0-Urdt-Tc_L",
        "outputId": "e572258e-9e3e-4a95-bf7b-8e276b3b927c"
      },
      "execution_count": 17,
      "outputs": [
        {
          "output_type": "stream",
          "name": "stdout",
          "text": [
            "   feature1  feature2  feature3  feature4  feature5  feature6  feature7  \\\n",
            "0         5         1         1         1         2         1         3   \n",
            "1         5         4         4         5         7        10         3   \n",
            "2         3         1         1         1         2         2         3   \n",
            "3         6         8         8         1         3         4         3   \n",
            "4         4         1         1         3         2         1         3   \n",
            "\n",
            "   feature8  feature9  class  \n",
            "0         1         1      0  \n",
            "1         2         1      0  \n",
            "2         1         1      0  \n",
            "3         7         1      0  \n",
            "4         1         1      0  \n",
            "         feature1    feature2    feature3    feature4    feature5    feature6  \\\n",
            "count  700.000000  700.000000  700.000000  700.000000  700.000000  700.000000   \n",
            "mean     4.415714    3.131429    3.204286    2.804286    3.214286    3.557143   \n",
            "std      2.814236    3.050343    2.970958    2.854153    2.213193    3.613026   \n",
            "min      1.000000    1.000000    1.000000    1.000000    1.000000    1.000000   \n",
            "25%      2.000000    1.000000    1.000000    1.000000    2.000000    1.000000   \n",
            "50%      4.000000    1.000000    1.000000    1.000000    2.000000    1.000000   \n",
            "75%      6.000000    5.000000    5.000000    4.000000    4.000000    6.000000   \n",
            "max     10.000000   10.000000   10.000000   10.000000   10.000000   10.000000   \n",
            "\n",
            "         feature7    feature8    feature9       class  \n",
            "count  700.000000  700.000000  700.000000  700.000000  \n",
            "mean     3.437143    2.864286    1.588571    0.344286  \n",
            "std      2.436676    3.052265    1.713995    0.475475  \n",
            "min      1.000000    1.000000    1.000000    0.000000  \n",
            "25%      2.000000    1.000000    1.000000    0.000000  \n",
            "50%      3.000000    1.000000    1.000000    0.000000  \n",
            "75%      5.000000    4.000000    1.000000    1.000000  \n",
            "max     10.000000   10.000000   10.000000    1.000000  \n"
          ]
        }
      ]
    },
    {
      "cell_type": "code",
      "source": [
        "# -Count the number of samples for each class\n",
        "class_counts = df['class'].value_counts()\n",
        "# Print the class counts\n",
        "print(class_counts)"
      ],
      "metadata": {
        "colab": {
          "base_uri": "https://localhost:8080/"
        },
        "id": "7CiDNSREJlWL",
        "outputId": "f6410f57-2ee3-4e81-f6e0-ee0eba7cd2f7"
      },
      "execution_count": 18,
      "outputs": [
        {
          "output_type": "stream",
          "name": "stdout",
          "text": [
            "0    459\n",
            "1    241\n",
            "Name: class, dtype: int64\n"
          ]
        }
      ]
    },
    {
      "cell_type": "code",
      "source": [
        "# Group samples by class\n",
        "grouped_data = df.groupby('class')\n",
        "\n",
        "# Loop over each class\n",
        "for class_name, group in grouped_data:\n",
        "    print(f'Statistics for {class_name}:')\n",
        "    # Calculate statistics for each feature\n",
        "    feature_stats = group.drop(columns='class').describe()\n",
        "    # Print feature statistics\n",
        "    print(feature_stats)\n"
      ],
      "metadata": {
        "colab": {
          "base_uri": "https://localhost:8080/"
        },
        "id": "UIfixWEIKXom",
        "outputId": "342957e6-c4fd-4910-e044-fc9b4910c71f"
      },
      "execution_count": 19,
      "outputs": [
        {
          "output_type": "stream",
          "name": "stdout",
          "text": [
            "Statistics for 0:\n",
            "         feature1    feature2    feature3    feature4    feature5    feature6  \\\n",
            "count  459.000000  459.000000  459.000000  459.000000  459.000000  459.000000   \n",
            "mean     2.956427    1.324619    1.442266    1.363834    2.119826    1.437908   \n",
            "std      1.672490    0.906830    0.996960    0.995886    0.916145    1.310839   \n",
            "min      1.000000    1.000000    1.000000    1.000000    1.000000    1.000000   \n",
            "25%      1.000000    1.000000    1.000000    1.000000    2.000000    1.000000   \n",
            "50%      3.000000    1.000000    1.000000    1.000000    2.000000    1.000000   \n",
            "75%      4.000000    1.000000    1.000000    1.000000    2.000000    1.000000   \n",
            "max      8.000000    9.000000    8.000000   10.000000   10.000000   10.000000   \n",
            "\n",
            "         feature7    feature8    feature9  \n",
            "count  459.000000  459.000000  459.000000  \n",
            "mean     2.102397    1.289760    1.063181  \n",
            "std      1.079976    1.057787    0.501456  \n",
            "min      1.000000    1.000000    1.000000  \n",
            "25%      1.000000    1.000000    1.000000  \n",
            "50%      2.000000    1.000000    1.000000  \n",
            "75%      3.000000    1.000000    1.000000  \n",
            "max      7.000000    9.000000    8.000000  \n",
            "Statistics for 1:\n",
            "         feature1    feature2    feature3    feature4    feature5    feature6  \\\n",
            "count  241.000000  241.000000  241.000000  241.000000  241.000000  241.000000   \n",
            "mean     7.195021    6.572614    6.560166    5.547718    5.298755    7.593361   \n",
            "std      2.428849    2.719512    2.562045    3.210465    2.451606    3.129263   \n",
            "min      1.000000    1.000000    1.000000    1.000000    1.000000    1.000000   \n",
            "25%      5.000000    4.000000    4.000000    3.000000    3.000000    5.000000   \n",
            "50%      8.000000    6.000000    6.000000    5.000000    5.000000   10.000000   \n",
            "75%     10.000000   10.000000    9.000000    8.000000    6.000000   10.000000   \n",
            "max     10.000000   10.000000   10.000000   10.000000   10.000000   10.000000   \n",
            "\n",
            "         feature7    feature8    feature9  \n",
            "count  241.000000  241.000000  241.000000  \n",
            "mean     5.979253    5.863071    2.589212  \n",
            "std      2.273852    3.350672    2.557939  \n",
            "min      1.000000    1.000000    1.000000  \n",
            "25%      4.000000    3.000000    1.000000  \n",
            "50%      7.000000    6.000000    1.000000  \n",
            "75%      7.000000   10.000000    3.000000  \n",
            "max     10.000000   10.000000   10.000000  \n"
          ]
        }
      ]
    },
    {
      "cell_type": "code",
      "source": [
        "##step 3\n",
        "#histogran for feature 1 and 2\n",
        "df.hist(column='feature1')\n",
        "df.hist(column='feature2')\n",
        "df.hist(column='feature3')\n",
        "df.hist(column='feature5')\n",
        "\n",
        "df.columns"
      ],
      "metadata": {
        "colab": {
          "base_uri": "https://localhost:8080/",
          "height": 1000
        },
        "id": "jA0Ng4pNTX7E",
        "outputId": "fcb3bbf0-d8be-48bd-b29a-6c9e65e1819f"
      },
      "execution_count": 20,
      "outputs": [
        {
          "output_type": "execute_result",
          "data": {
            "text/plain": [
              "Index(['feature1', 'feature2', 'feature3', 'feature4', 'feature5', 'feature6',\n",
              "       'feature7', 'feature8', 'feature9', 'class'],\n",
              "      dtype='object')"
            ]
          },
          "metadata": {},
          "execution_count": 20
        },
        {
          "output_type": "display_data",
          "data": {
            "text/plain": [
              "<Figure size 432x288 with 1 Axes>"
            ],
            "image/png": "[encoded data removed]"
          },
          "metadata": {
            "needs_background": "light"
          }
        },
        {
          "output_type": "display_data",
          "data": {
            "text/plain": [
              "<Figure size 432x288 with 1 Axes>"
            ],
            "image/png": "[encoded data removed]"
          },
          "metadata": {
            "needs_background": "light"
          }
        },
        {
          "output_type": "display_data",
          "data": {
            "text/plain": [
              "<Figure size 432x288 with 1 Axes>"
            ],
            "image/png": "[encoded data removed]"
          },
          "metadata": {
            "needs_background": "light"
          }
        },
        {
          "output_type": "display_data",
          "data": {
            "text/plain": [
              "<Figure size 432x288 with 1 Axes>"
            ],
            "image/png": "[encoded data removed]"
          },
          "metadata": {
            "needs_background": "light"
          }
        }
      ]
    },
    {
      "cell_type": "code",
      "source": [
        "#This code selects the columns feature1 through feature9 from the pandas DataFrame df and creates a NumPy array X containing the values of these columns. The values attribute returns the underlying NumPy array of the DataFrame.\n",
        "X=df[['feature1', 'feature2', 'feature3', 'feature4', 'feature5', 'feature6',\n",
        "       'feature7', 'feature8', 'feature9']].values\n",
        "X[:,:]"
      ],
      "metadata": {
        "id": "xkSSfq0TVN4v",
        "colab": {
          "base_uri": "https://localhost:8080/"
        },
        "outputId": "4e8ebd4e-a723-4675-d6a8-14c5b4327850"
      },
      "execution_count": 21,
      "outputs": [
        {
          "output_type": "execute_result",
          "data": {
            "text/plain": [
              "array([[ 5,  1,  1, ...,  3,  1,  1],\n",
              "       [ 5,  4,  4, ...,  3,  2,  1],\n",
              "       [ 3,  1,  1, ...,  3,  1,  1],\n",
              "       ...,\n",
              "       [ 4,  8,  6, ..., 10,  6,  1],\n",
              "       [ 4,  8,  8, ..., 10,  4,  1],\n",
              "       [ 3,  1,  1, ...,  3,  1,  1]])"
            ]
          },
          "metadata": {},
          "execution_count": 21
        }
      ]
    },
    {
      "cell_type": "code",
      "source": [
        "#my labels :\n",
        "y=df['class'].values\n",
        "y[0:50]"
      ],
      "metadata": {
        "colab": {
          "base_uri": "https://localhost:8080/"
        },
        "id": "UXbljAT2WbKX",
        "outputId": "eccb044b-cd00-4f18-ca19-4a9bc7a31fae"
      },
      "execution_count": 22,
      "outputs": [
        {
          "output_type": "execute_result",
          "data": {
            "text/plain": [
              "array([0, 0, 0, 0, 0, 1, 0, 0, 0, 0, 0, 0, 1, 0, 1, 1, 0, 0, 1, 0, 1, 1,\n",
              "       0, 1, 0, 1, 0, 0, 0, 0, 0, 0, 1, 0, 0, 0, 1, 0, 1, 1, 0, 1, 1, 1,\n",
              "       1, 0, 1, 0, 0, 1])"
            ]
          },
          "metadata": {},
          "execution_count": 22
        }
      ]
    },
    {
      "cell_type": "code",
      "source": [
        "scaler=preprocessing.StandardScaler().fit(X)\n",
        "x=scaler.transform(X.astype(float))\n",
        "x[0:5]"
      ],
      "metadata": {
        "id": "Cb1KYAEUXloV",
        "colab": {
          "base_uri": "https://localhost:8080/"
        },
        "outputId": "26d96f92-0158-4d35-e981-5a49ad550268"
      },
      "execution_count": 23,
      "outputs": [
        {
          "output_type": "execute_result",
          "data": {
            "text/plain": [
              "array([[ 0.20776634, -0.69925018, -0.74247497, -0.63261351, -0.54905024,\n",
              "        -0.7082627 , -0.17952962, -0.61122446, -0.34363701],\n",
              "       [ 0.20776634,  0.28494914,  0.2680224 ,  0.76985508,  1.71174487,\n",
              "         1.78450547, -0.17952962, -0.28336459, -0.34363701],\n",
              "       [-0.50341428, -0.69925018, -0.74247497, -0.63261351, -0.54905024,\n",
              "        -0.43128846, -0.17952962, -0.61122446, -0.34363701],\n",
              "       [ 0.56335664,  1.5972149 ,  1.61535221, -0.63261351, -0.09689122,\n",
              "         0.12266002, -0.17952962,  1.35593471, -0.34363701],\n",
              "       [-0.14782397, -0.69925018, -0.74247497,  0.06862078, -0.54905024,\n",
              "        -0.7082627 , -0.17952962, -0.61122446, -0.34363701]])"
            ]
          },
          "metadata": {},
          "execution_count": 23
        }
      ]
    },
    {
      "cell_type": "code",
      "source": [
        "#Step-4\n",
        "#spilit data\n",
        "from sklearn.model_selection import train_test_split\n",
        "X_train,X_test,y_train,y_test=train_test_split(X,y,test_size=0.2,random_state=4)\n",
        "print('train_set:',X_train.shape,y_train.shape)\n",
        "print('test_set:',X_test.shape,y_test.shape)"
      ],
      "metadata": {
        "colab": {
          "base_uri": "https://localhost:8080/"
        },
        "id": "afp6gevwZZBU",
        "outputId": "b1bca170-41e9-4978-a1d0-1bf2656f2260"
      },
      "execution_count": 24,
      "outputs": [
        {
          "output_type": "stream",
          "name": "stdout",
          "text": [
            "train_set: (560, 9) (560,)\n",
            "test_set: (140, 9) (140,)\n"
          ]
        }
      ]
    },
    {
      "cell_type": "code",
      "source": [
        "#Step 5\n",
        "import matplotlib.pyplot as plt\n",
        "from sklearn.model_selection import cross_val_score, train_test_split\n",
        "from sklearn.neighbors import KNeighborsClassifier\n",
        "from sklearn.metrics import classification_report\n",
        "\n",
        "k_range = range(1, 31)\n",
        "accuracy_scores = []\n",
        "precision_scores = []\n",
        "recall_scores = []\n",
        "f1_scores = []\n",
        "\n",
        "for k in k_range:\n",
        "    knn = KNeighborsClassifier(n_neighbors=k)\n",
        "    # Compute accuracy, precision, recall, and F1-score\n",
        "    accuracy = cross_val_score(knn, X_train, y_train, cv=5, scoring='accuracy').mean()\n",
        "    precision = cross_val_score(knn, X_train, y_train, cv=5, scoring='precision_macro').mean()\n",
        "    recall = cross_val_score(knn, X_train, y_train, cv=5, scoring='recall_macro').mean()\n",
        "    f1 = cross_val_score(knn, X_train, y_train, cv=5, scoring='f1_macro').mean()\n",
        "    \n",
        "    # Append scores to respective lists\n",
        "    accuracy_scores.append(accuracy)\n",
        "    precision_scores.append(precision)\n",
        "    recall_scores.append(recall)\n",
        "    f1_scores.append(f1)\n",
        "    \n",
        "# Plot\n",
        "plt.plot(k_range, accuracy_scores, label='accuracy')\n",
        "plt.plot(k_range, precision_scores, label='precision')\n",
        "plt.plot(k_range, recall_scores, label='recall')\n",
        "plt.plot(k_range, f1_scores, label='f1-score')\n",
        "plt.xlabel('value of k for knn')\n",
        "plt.ylabel('cross-validated score')\n",
        "plt.legend()\n",
        "plt.show()\n",
        "\n",
        "# Print best k for each metric\n",
        "max_accuracy = max(accuracy_scores)\n",
        "max_precision = max(precision_scores)\n",
        "max_recall = max(recall_scores)\n",
        "max_f1 = max(f1_scores)\n",
        "\n",
        "print(f'Best k for accuracy: {k_range[accuracy_scores.index(max_accuracy)]}')\n",
        "print(f'Best k for precision: {k_range[precision_scores.index(max_precision)]}')\n",
        "print(f'Best k for recall: {k_range[recall_scores.index(max_recall)]}')\n",
        "print(f'Best k for F1-score: {k_range[f1_scores.index(max_f1)]}')\n",
        "\n",
        "# Best k for each metric\n",
        "best_k_accuracy = k_range[accuracy_scores.index(max_accuracy)]\n",
        "best_k_precision = k_range[precision_scores.index(max_precision)]\n",
        "best_k_recall = k_range[recall_scores.index(max_recall)]\n",
        "best_k_f1 = k_range[f1_scores.index(max_f1)]\n",
        "\n",
        "# Create KNN classifier with best K for each metric\n",
        "knn_accuracy = KNeighborsClassifier(n_neighbors=best_k_accuracy)\n",
        "knn_precision = KNeighborsClassifier(n_neighbors=best_k_precision)\n",
        "knn_recall = KNeighborsClassifier(n_neighbors=best_k_recall)\n",
        "knn_f1 = KNeighborsClassifier(n_neighbors=best_k_f1)\n",
        "\n",
        "# Fit classifiers on training set\n",
        "knn_accuracy.fit(X_train, y_train)\n",
        "knn_precision.fit(X_train, y_train)\n",
        "knn_recall.fit(X_train, y_train)\n",
        "knn_f1.fit(X_train, y_train)\n",
        "\n",
        "# from sklearn.metrics import classification_report\n",
        "# Predict on test set\n",
        "y_pred_accuracyknn = knn_accuracy.predict(X_test)\n",
        "y_pred_precisionknn = knn_precision.predict(X_test)\n",
        "y_pred_recallknn = knn_recall.predict(X_test)\n",
        "y_pred_f1knn = knn_f1.predict(X_test)\n",
        "\n",
        "# Compute metrics\n",
        "from sklearn import metrics\n",
        "accuracy_score = metrics.accuracy_score(y_test, y_pred_accuracyknn)\n",
        "print(\"Accuracy Score:\", accuracy_score)\n",
        "Precision_score = metrics.precision_score(y_test, y_pred_precisionknn)\n",
        "print(\"Precision Score:\", Precision_score)\n",
        "recall_score = metrics.recall_score(y_test, y_pred_f1knn)\n",
        "print(\"recall Score:\", recall_score)\n",
        "f1_score = metrics.f1_score(y_test, y_pred_f1knn)\n",
        "print(\"f1 Score:\", f1_score)\n",
        "\n",
        "\n",
        "\n",
        "print(f'Accuracy: {classification_report(y_test, y_pred_accuracyknn)}')\n",
        "print(f'Precision: {classification_report(y_test, y_pred_precisionknn)}')\n",
        "print(f'Recall: {classification_report(y_test, y_pred_recallknn)}')\n",
        "print(f'F1-score: {classification_report(y_test, y_pred_f1knn)}')\n",
        "\n"
      ],
      "metadata": {
        "colab": {
          "base_uri": "https://localhost:8080/",
          "height": 1000
        },
        "id": "YpAkRXYo9UcK",
        "outputId": "9e68af2b-a952-4e84-d486-c30e388ff6fd"
      },
      "execution_count": 25,
      "outputs": [
        {
          "output_type": "display_data",
          "data": {
            "text/plain": [
              "<Figure size 432x288 with 1 Axes>"
            ],
            "image/png": "[encoded data removed]"
          },
          "metadata": {
            "needs_background": "light"
          }
        },
        {
          "output_type": "stream",
          "name": "stdout",
          "text": [
            "Best k for accuracy: 5\n",
            "Best k for precision: 13\n",
            "Best k for recall: 5\n",
            "Best k for F1-score: 5\n",
            "Accuracy Score: 0.9714285714285714\n",
            "Precision Score: 0.9777777777777777\n",
            "recall Score: 0.9361702127659575\n",
            "f1 Score: 0.9565217391304347\n",
            "Accuracy:               precision    recall  f1-score   support\n",
            "\n",
            "           0       0.97      0.99      0.98        93\n",
            "           1       0.98      0.94      0.96        47\n",
            "\n",
            "    accuracy                           0.97       140\n",
            "   macro avg       0.97      0.96      0.97       140\n",
            "weighted avg       0.97      0.97      0.97       140\n",
            "\n",
            "Precision:               precision    recall  f1-score   support\n",
            "\n",
            "           0       0.97      0.99      0.98        93\n",
            "           1       0.98      0.94      0.96        47\n",
            "\n",
            "    accuracy                           0.97       140\n",
            "   macro avg       0.97      0.96      0.97       140\n",
            "weighted avg       0.97      0.97      0.97       140\n",
            "\n",
            "Recall:               precision    recall  f1-score   support\n",
            "\n",
            "           0       0.97      0.99      0.98        93\n",
            "           1       0.98      0.94      0.96        47\n",
            "\n",
            "    accuracy                           0.97       140\n",
            "   macro avg       0.97      0.96      0.97       140\n",
            "weighted avg       0.97      0.97      0.97       140\n",
            "\n",
            "F1-score:               precision    recall  f1-score   support\n",
            "\n",
            "           0       0.97      0.99      0.98        93\n",
            "           1       0.98      0.94      0.96        47\n",
            "\n",
            "    accuracy                           0.97       140\n",
            "   macro avg       0.97      0.96      0.97       140\n",
            "weighted avg       0.97      0.97      0.97       140\n",
            "\n"
          ]
        }
      ]
    },
    {
      "cell_type": "code",
      "source": [
        "from sklearn.metrics import confusion_matrix\n",
        "import matplotlib.pyplot as plt\n",
        "import seaborn as sns\n",
        "\n",
        "# Calculate the confusion matrix\n",
        "cm = confusion_matrix(y_test,y_pred_accuracyknn )\n",
        "# # Plot the confusion matrix as a heatmap\n",
        "\n",
        "#precision\n",
        "# Calculate the confusion matrix\n",
        "cm = confusion_matrix(y_test,y_pred_precisionknn )\n",
        "# Plot the confusion matrix as a heatmap\n",
        "sns.heatmap(cm, annot=True, cmap=\"Blues\", fmt=\"d\", cbar=False)\n",
        "\n",
        "# Add labels, title and ticks to the plot\n",
        "plt.title(\"Confusion Matrix for precision\")\n",
        "plt.xlabel(\"Predicted Labels in precision\")\n",
        "plt.ylabel(\"True Labels in precision\")\n",
        "plt.xticks([0.5, 1.5], [\"Positive\",\"Negative\", ])\n",
        "plt.yticks([0.5, 1.5], [\"Positive\",\"Negative\", ])\n",
        "plt.show()\n",
        "\n",
        "\n",
        "\n"
      ],
      "metadata": {
        "colab": {
          "base_uri": "https://localhost:8080/",
          "height": 295
        },
        "id": "SiEvLcfRWCMy",
        "outputId": "faef360b-cb72-4f2c-f411-6eef532d6efc"
      },
      "execution_count": 26,
      "outputs": [
        {
          "output_type": "display_data",
          "data": {
            "text/plain": [
              "<Figure size 432x288 with 1 Axes>"
            ],
            "image/png": "[encoded data removed]"
          },
          "metadata": {
            "needs_background": "light"
          }
        }
      ]
    },
    {
      "cell_type": "code",
      "source": [
        "##SVM\n",
        "\n",
        "import matplotlib.pyplot as plt\n",
        "from sklearn.model_selection import cross_val_score, train_test_split\n",
        "from sklearn.svm import SVC\n",
        "\n",
        "kernels = ['linear', 'poly', 'rbf', 'sigmoid']\n",
        "accuracy_scores = []\n",
        "precision_scores = []\n",
        "recall_scores = []\n",
        "f1_scores = []\n",
        "\n",
        "for kernel in kernels:\n",
        "    svc = SVC(kernel=kernel)\n",
        "    # Compute accuracy, precision, recall, and F1-score\n",
        "    accuracy = cross_val_score(svc, X_train, y_train, cv=5, scoring='accuracy').mean()\n",
        "    precision = cross_val_score(svc, X_train, y_train, cv=5, scoring='precision_macro').mean()\n",
        "    recall = cross_val_score(svc, X_train, y_train, cv=5, scoring='recall_macro').mean()\n",
        "    f1 = cross_val_score(svc, X_train, y_train, cv=5, scoring='f1_macro').mean()\n",
        "    \n",
        "    print()\n",
        "\n",
        "    # Append scores to respective lists\n",
        "    accuracy_scores.append(accuracy)\n",
        "    precision_scores.append(precision)\n",
        "    recall_scores.append(recall)\n",
        "    f1_scores.append(f1)\n",
        "    \n",
        "    # Print best kernel for each metric\n",
        "    max_accuracy = max(accuracy_scores)\n",
        "    max_precision = max(precision_scores)\n",
        "    max_recall = max(recall_scores)\n",
        "    max_f1 = max(f1_scores)\n",
        "\n",
        "    \n",
        "# Plot\n",
        "plt.plot(kernels, accuracy_scores, label='accuracy')\n",
        "plt.plot(kernels, precision_scores, label='precision')\n",
        "plt.plot(kernels, recall_scores, label='recall')\n",
        "plt.plot(kernels, f1_scores, label='f1-score')\n",
        "plt.xlabel('Kernel')\n",
        "plt.ylabel('cross-validated score')\n",
        "plt.legend()\n",
        "plt.show()\n",
        "\n",
        "# Print best kernel for each metric\n",
        "max_accuracy = max(accuracy_scores)\n",
        "max_precision = max(precision_scores)\n",
        "max_recall = max(recall_scores)\n",
        "max_f1 = max(f1_scores)\n",
        "\n",
        "\n",
        "from sklearn.metrics import classification_report\n",
        "\n",
        "# Best k for each metric\n",
        "best_k_accuracy = kernels[accuracy_scores.index(max_accuracy)]\n",
        "best_k_precision = kernels[precision_scores.index(max_precision)]\n",
        "best_k_recall = kernels[recall_scores.index(max_recall)]\n",
        "best_k_f1 = kernels[f1_scores.index(max_f1)]\n",
        "# Create SVM classifier with best KERNEL for each metric\n",
        "SVM_accuracy = SVC(kernel=best_k_accuracy)\n",
        "SVM_precision = SVC(kernel=best_k_precision)\n",
        "SVM_recall = SVC(kernel=best_k_recall)\n",
        "SVM_f1 = SVC(kernel=best_k_f1)\n",
        "\n",
        "\n",
        "# Fit classifiers on training set\n",
        "SVM_accuracy.fit(X_train, y_train)\n",
        "SVM_precision.fit(X_train, y_train)\n",
        "SVM_recall.fit(X_train, y_train)\n",
        "SVM_f1.fit(X_train, y_train)\n",
        "\n",
        "# Predict on test set\n",
        "y_pred_accuracysvm = SVM_accuracy.predict(X_test)\n",
        "y_pred_precisionsvm = SVM_precision.predict(X_test)\n",
        "y_pred_recallsvm = SVM_recall.predict(X_test)\n",
        "y_pred_f1svm = SVM_f1.predict(X_test)\n",
        "\n",
        "\n",
        "# Compute metrics\n",
        "from sklearn import metrics\n",
        "accuracy_score = metrics.accuracy_score(y_test, y_pred_accuracysvm)\n",
        "print(\"Accuracy Score:\", accuracy_score)\n",
        "Precision_score = metrics.precision_score(y_test, y_pred_precisionsvm)\n",
        "print(\"Precision Score:\", Precision_score)\n",
        "recall_score = metrics.recall_score(y_test, y_pred_recallsvm)\n",
        "print(\"recall Score:\", recall_score)\n",
        "f1_score = metrics.f1_score(y_test, y_pred_f1svm)\n",
        "print(\"f1 Score:\", f1_score)\n",
        "\n",
        "##report classifier\n",
        "print(f'Best kernel for accuracy: {kernels[accuracy_scores.index(max_accuracy)]}')\n",
        "print(f'Best kernel for precision: {kernels[precision_scores.index(max_precision)]}')\n",
        "print(f'Best kernel for recall: {kernels[recall_scores.index(max_recall)]}')\n",
        "print(f'Best kernel for F1-score: {kernels[f1_scores.index(max_f1)]}')\n",
        "print(f'Accuracy: {classification_report(y_test, y_pred_accuracysvm)}')\n",
        "print(f'Precision: {classification_report(y_test, y_pred_precisionsvm)}')\n",
        "print(f'Recall: {classification_report(y_test, y_pred_recallsvm)}')\n",
        "print(f'F1-score: {classification_report(y_test, y_pred_f1svm)}')\n"
      ],
      "metadata": {
        "colab": {
          "base_uri": "https://localhost:8080/",
          "height": 1000
        },
        "id": "-KQZ4AMgL2GF",
        "outputId": "0f47e509-9ab3-45d6-a9a8-fb7839f8715c"
      },
      "execution_count": 27,
      "outputs": [
        {
          "output_type": "stream",
          "name": "stdout",
          "text": [
            "\n",
            "\n",
            "\n",
            "\n"
          ]
        },
        {
          "output_type": "display_data",
          "data": {
            "text/plain": [
              "<Figure size 432x288 with 1 Axes>"
            ],
            "image/png": "[encoded data removed]"
          },
          "metadata": {
            "needs_background": "light"
          }
        },
        {
          "output_type": "stream",
          "name": "stdout",
          "text": [
            "Accuracy Score: 0.9714285714285714\n",
            "Precision Score: 0.9574468085106383\n",
            "recall Score: 0.9574468085106383\n",
            "f1 Score: 0.9574468085106385\n",
            "Best kernel for accuracy: rbf\n",
            "Best kernel for precision: rbf\n",
            "Best kernel for recall: rbf\n",
            "Best kernel for F1-score: rbf\n",
            "Accuracy:               precision    recall  f1-score   support\n",
            "\n",
            "           0       0.98      0.98      0.98        93\n",
            "           1       0.96      0.96      0.96        47\n",
            "\n",
            "    accuracy                           0.97       140\n",
            "   macro avg       0.97      0.97      0.97       140\n",
            "weighted avg       0.97      0.97      0.97       140\n",
            "\n",
            "Precision:               precision    recall  f1-score   support\n",
            "\n",
            "           0       0.98      0.98      0.98        93\n",
            "           1       0.96      0.96      0.96        47\n",
            "\n",
            "    accuracy                           0.97       140\n",
            "   macro avg       0.97      0.97      0.97       140\n",
            "weighted avg       0.97      0.97      0.97       140\n",
            "\n",
            "Recall:               precision    recall  f1-score   support\n",
            "\n",
            "           0       0.98      0.98      0.98        93\n",
            "           1       0.96      0.96      0.96        47\n",
            "\n",
            "    accuracy                           0.97       140\n",
            "   macro avg       0.97      0.97      0.97       140\n",
            "weighted avg       0.97      0.97      0.97       140\n",
            "\n",
            "F1-score:               precision    recall  f1-score   support\n",
            "\n",
            "           0       0.98      0.98      0.98        93\n",
            "           1       0.96      0.96      0.96        47\n",
            "\n",
            "    accuracy                           0.97       140\n",
            "   macro avg       0.97      0.97      0.97       140\n",
            "weighted avg       0.97      0.97      0.97       140\n",
            "\n"
          ]
        }
      ]
    },
    {
      "cell_type": "code",
      "source": [
        "##evaluation confusion matrix\n",
        "from sklearn.metrics import confusion_matrix\n",
        "import matplotlib.pyplot as plt\n",
        "import seaborn as sns\n",
        "\n",
        "# Calculate the confusion matrix\n",
        "cm = confusion_matrix(y_test, y_pred_accuracysvm)\n",
        "# Plot the confusion matrix as a heatmap\n",
        "sns.heatmap(cm, annot=True, cmap=\"Blues\", fmt=\"d\", cbar=False)\n",
        "\n",
        "# Add labels, title and ticks to the plot\n",
        "plt.title(\"Confusion Matrix accuracy\")\n",
        "plt.xlabel(\"Predicted Labels accuracy\")\n",
        "plt.ylabel(\"True Labels accuracy\")\n",
        "plt.xticks([0.5, 1.5], [\"Positive\",\"Negative\"])\n",
        "plt.yticks([0.5, 1.5], [\"Positive\",\"Negative\"])\n",
        "\n",
        "plt.show()\n",
        "\n"
      ],
      "metadata": {
        "id": "gEybK1cJWWTU",
        "colab": {
          "base_uri": "https://localhost:8080/",
          "height": 295
        },
        "outputId": "708eb623-80fd-486a-9025-82afd8065a41"
      },
      "execution_count": 28,
      "outputs": [
        {
          "output_type": "display_data",
          "data": {
            "text/plain": [
              "<Figure size 432x288 with 1 Axes>"
            ],
            "image/png": "[encoded data removed]"
          },
          "metadata": {
            "needs_background": "light"
          }
        }
      ]
    },
    {
      "cell_type": "code",
      "source": [
        "from sklearn.tree import DecisionTreeClassifier\n",
        "from sklearn.model_selection import GridSearchCV\n",
        "from sklearn.metrics import classification_report\n",
        "\n",
        "# Create a Decision Tree classifier object\n",
        "dtc = DecisionTreeClassifier()\n",
        "\n",
        "# Define parameter grid\n",
        "param_grid = {\n",
        "    'criterion': ['gini', 'entropy'],\n",
        "    'max_depth': [2, 4, 6, 8, 10],\n",
        "    'min_samples_split': [2, 5, 10],\n",
        "    'min_samples_leaf': [1, 2, 4],\n",
        "}\n",
        "\n",
        "# Define scoring metrics\n",
        "scoring = {\n",
        "    'accuracy': 'accuracy',\n",
        "    'precision': 'precision_macro',\n",
        "    'recall': 'recall_macro',\n",
        "    'f1': 'f1_macro'\n",
        "}\n",
        "\n",
        "# Perform grid search with cross-validation\n",
        "grid_search_acc = GridSearchCV(dtc, param_grid=param_grid, scoring=scoring, refit='accuracy', cv=5)\n",
        "grid_search_recall = GridSearchCV(dtc, param_grid=param_grid, scoring=scoring, refit='recall', cv=5)\n",
        "grid_search_precision = GridSearchCV(dtc, param_grid=param_grid, scoring=scoring, refit='precision', cv=5)\n",
        "grid_search_f1 = GridSearchCV(dtc, param_grid=param_grid, scoring=scoring, refit='f1', cv=5)\n",
        "\n",
        "# Fit the grid search object to the data\n",
        "grid_search_acc.fit(X_train, y_train)\n",
        "grid_search_recall.fit(X_train, y_train)\n",
        "grid_search_precision.fit(X_train, y_train)\n",
        "grid_search_f1.fit(X_train, y_train)\n",
        "\n",
        "\n",
        "# Predict on test set\n",
        "y_pred_accuracydt = grid_search_acc.best_estimator_.predict(X_test)\n",
        "y_pred_precisiondt = grid_search_precision.best_estimator_.predict(X_test)\n",
        "y_pred_recalldt = grid_search_recall.best_estimator_.predict(X_test)\n",
        "y_pred_f1dt = grid_search_f1.best_estimator_.predict(X_test)\n",
        "\n",
        "# Print the best hyperparameters and metrics for each scoring metric\n",
        "print(\"Best hyperparameters for accuracy: \", grid_search_acc.best_params_)\n",
        "print(\"Best accuracy: \", classification_report(y_test, grid_search_acc.predict(X_test)))\n",
        "\n",
        "print(\"Best hyperparameters for recall: \", grid_search_recall.best_params_)\n",
        "print(\"Best recall: \", classification_report(y_test, grid_search_recall.predict(X_test)))\n",
        "\n",
        "print(\"Best hyperparameters for precision: \", grid_search_precision.best_params_)\n",
        "print(\"Best precision: \", classification_report(y_test, grid_search_precision.predict(X_test)))\n",
        "\n",
        "print(\"Best hyperparameters for f1-score: \", grid_search_f1.best_params_)\n",
        "print(\"Best f1-score: \", classification_report(y_test, grid_search_f1.predict(X_test)))\n",
        "\n",
        "\n",
        "# Compute metrics\n",
        "from sklearn import metrics\n",
        "accuracy_score = metrics.accuracy_score(y_test, y_pred_accuracydt)\n",
        "print(\"Accuracy Score:\", accuracy_score)\n",
        "Precision_score = metrics.precision_score(y_test, y_pred_precisiondt)\n",
        "print(\"Precision Score:\", Precision_score)\n",
        "recall_score = metrics.recall_score(y_test, y_pred_recalldt)\n",
        "print(\"recall Score:\", recall_score)\n",
        "f1_score = metrics.f1_score(y_test, y_pred_f1dt)\n",
        "print(\"f1 Score:\", f1_score)"
      ],
      "metadata": {
        "colab": {
          "base_uri": "https://localhost:8080/"
        },
        "id": "W1H2DyI6e40B",
        "outputId": "69ced9f2-8c3f-4453-e5a0-23d24f5a2e80"
      },
      "execution_count": 29,
      "outputs": [
        {
          "output_type": "stream",
          "name": "stdout",
          "text": [
            "Best hyperparameters for accuracy:  {'criterion': 'entropy', 'max_depth': 6, 'min_samples_leaf': 2, 'min_samples_split': 10}\n",
            "Best accuracy:                precision    recall  f1-score   support\n",
            "\n",
            "           0       0.92      0.96      0.94        93\n",
            "           1       0.91      0.83      0.87        47\n",
            "\n",
            "    accuracy                           0.91       140\n",
            "   macro avg       0.91      0.89      0.90       140\n",
            "weighted avg       0.91      0.91      0.91       140\n",
            "\n",
            "Best hyperparameters for recall:  {'criterion': 'entropy', 'max_depth': 8, 'min_samples_leaf': 4, 'min_samples_split': 10}\n",
            "Best recall:                precision    recall  f1-score   support\n",
            "\n",
            "           0       0.92      0.96      0.94        93\n",
            "           1       0.91      0.83      0.87        47\n",
            "\n",
            "    accuracy                           0.91       140\n",
            "   macro avg       0.91      0.89      0.90       140\n",
            "weighted avg       0.91      0.91      0.91       140\n",
            "\n",
            "Best hyperparameters for precision:  {'criterion': 'entropy', 'max_depth': 6, 'min_samples_leaf': 2, 'min_samples_split': 10}\n",
            "Best precision:                precision    recall  f1-score   support\n",
            "\n",
            "           0       0.92      0.96      0.94        93\n",
            "           1       0.91      0.83      0.87        47\n",
            "\n",
            "    accuracy                           0.91       140\n",
            "   macro avg       0.91      0.89      0.90       140\n",
            "weighted avg       0.91      0.91      0.91       140\n",
            "\n",
            "Best hyperparameters for f1-score:  {'criterion': 'entropy', 'max_depth': 8, 'min_samples_leaf': 4, 'min_samples_split': 2}\n",
            "Best f1-score:                precision    recall  f1-score   support\n",
            "\n",
            "           0       0.92      0.96      0.94        93\n",
            "           1       0.91      0.83      0.87        47\n",
            "\n",
            "    accuracy                           0.91       140\n",
            "   macro avg       0.91      0.89      0.90       140\n",
            "weighted avg       0.91      0.91      0.91       140\n",
            "\n",
            "Accuracy Score: 0.9142857142857143\n",
            "Precision Score: 0.9069767441860465\n",
            "recall Score: 0.8297872340425532\n",
            "f1 Score: 0.8666666666666666\n"
          ]
        }
      ]
    },
    {
      "cell_type": "code",
      "source": [
        "# Import necessary libraries\n",
        "from sklearn.metrics import confusion_matrix\n",
        "import matplotlib.pyplot as plt\n",
        "import seaborn as sns\n",
        "\n",
        "# Calculate the confusion matrix for accuracy\n",
        "cm = confusion_matrix(y_test, y_pred_accuracydt)\n",
        "\n",
        "# Plot the confusion matrix as a heatmap\n",
        "sns.heatmap(cm, annot=True, cmap=\"Blues\", fmt=\"d\", cbar=False)\n",
        "\n",
        "# Add labels, title and ticks to the plot\n",
        "plt.title(\"Confusion Matrix for Accuracy\")\n",
        "plt.xlabel(\"Predicted Labels\")\n",
        "plt.ylabel(\"True Labels\")\n",
        "plt.xticks([0.5, 1.5], [\"Positive\",\"Negative\"])\n",
        "plt.yticks([0.5, 1.5], [\"Positive\",\"Negative\"])\n",
        "\n",
        "plt.show()\n",
        "\n",
        "# # Calculate the confusion matrix for precision\n",
        "# cm = confusion_matrix(y_test, y_pred_precisiondt)\n",
        "\n",
        "# # Plot the confusion matrix as a heatmap\n",
        "# sns.heatmap(cm, annot=True, cmap=\"Blues\", fmt=\"d\", cbar=False)\n",
        "\n",
        "# # Add labels, title and ticks to the plot\n",
        "# plt.title(\"Confusion Matrix for Precision\")\n",
        "# plt.xlabel(\"Predicted Labels\")\n",
        "# plt.ylabel(\"True Labels\")\n",
        "# plt.xticks([0.5, 1.5], [\"Positive\",\"Negative\"])\n",
        "# plt.yticks([0.5, 1.5], [\"Positive\",\"Negative\"])\n",
        "\n",
        "# plt.show()\n"
      ],
      "metadata": {
        "colab": {
          "base_uri": "https://localhost:8080/",
          "height": 295
        },
        "id": "VcUn-Dihmnau",
        "outputId": "549ea0bb-be48-4cc7-df3f-347142a4eb11"
      },
      "execution_count": 31,
      "outputs": [
        {
          "output_type": "display_data",
          "data": {
            "text/plain": [
              "<Figure size 432x288 with 1 Axes>"
            ],
            "image/png": "[encoded data removed]"
          },
          "metadata": {
            "needs_background": "light"
          }
        }
      ]
    }
  ]
}